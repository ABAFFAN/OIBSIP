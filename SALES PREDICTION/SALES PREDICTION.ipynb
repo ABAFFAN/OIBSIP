{
 "cells": [
  {
   "cell_type": "code",
   "execution_count": 12,
   "id": "21adc71c",
   "metadata": {},
   "outputs": [],
   "source": [
    "import pandas as pd\n",
    "import numpy as np\n",
    "import warnings\n",
    "warnings.filterwarnings('ignore')\n",
    "import matplotlib.pyplot as plt\n",
    "import seaborn as sns"
   ]
  },
  {
   "cell_type": "code",
   "execution_count": 2,
   "id": "2064c97b",
   "metadata": {},
   "outputs": [],
   "source": [
    "df = pd.read_csv('Advertising.csv')"
   ]
  },
  {
   "cell_type": "code",
   "execution_count": 3,
   "id": "65066d20",
   "metadata": {},
   "outputs": [
    {
     "data": {
      "text/html": [
       "<div>\n",
       "<style scoped>\n",
       "    .dataframe tbody tr th:only-of-type {\n",
       "        vertical-align: middle;\n",
       "    }\n",
       "\n",
       "    .dataframe tbody tr th {\n",
       "        vertical-align: top;\n",
       "    }\n",
       "\n",
       "    .dataframe thead th {\n",
       "        text-align: right;\n",
       "    }\n",
       "</style>\n",
       "<table border=\"1\" class=\"dataframe\">\n",
       "  <thead>\n",
       "    <tr style=\"text-align: right;\">\n",
       "      <th></th>\n",
       "      <th>Unnamed: 0</th>\n",
       "      <th>TV</th>\n",
       "      <th>Radio</th>\n",
       "      <th>Newspaper</th>\n",
       "      <th>Sales</th>\n",
       "    </tr>\n",
       "  </thead>\n",
       "  <tbody>\n",
       "    <tr>\n",
       "      <th>0</th>\n",
       "      <td>1</td>\n",
       "      <td>230.1</td>\n",
       "      <td>37.8</td>\n",
       "      <td>69.2</td>\n",
       "      <td>22.1</td>\n",
       "    </tr>\n",
       "    <tr>\n",
       "      <th>1</th>\n",
       "      <td>2</td>\n",
       "      <td>44.5</td>\n",
       "      <td>39.3</td>\n",
       "      <td>45.1</td>\n",
       "      <td>10.4</td>\n",
       "    </tr>\n",
       "    <tr>\n",
       "      <th>2</th>\n",
       "      <td>3</td>\n",
       "      <td>17.2</td>\n",
       "      <td>45.9</td>\n",
       "      <td>69.3</td>\n",
       "      <td>9.3</td>\n",
       "    </tr>\n",
       "    <tr>\n",
       "      <th>3</th>\n",
       "      <td>4</td>\n",
       "      <td>151.5</td>\n",
       "      <td>41.3</td>\n",
       "      <td>58.5</td>\n",
       "      <td>18.5</td>\n",
       "    </tr>\n",
       "    <tr>\n",
       "      <th>4</th>\n",
       "      <td>5</td>\n",
       "      <td>180.8</td>\n",
       "      <td>10.8</td>\n",
       "      <td>58.4</td>\n",
       "      <td>12.9</td>\n",
       "    </tr>\n",
       "  </tbody>\n",
       "</table>\n",
       "</div>"
      ],
      "text/plain": [
       "   Unnamed: 0     TV  Radio  Newspaper  Sales\n",
       "0           1  230.1   37.8       69.2   22.1\n",
       "1           2   44.5   39.3       45.1   10.4\n",
       "2           3   17.2   45.9       69.3    9.3\n",
       "3           4  151.5   41.3       58.5   18.5\n",
       "4           5  180.8   10.8       58.4   12.9"
      ]
     },
     "execution_count": 3,
     "metadata": {},
     "output_type": "execute_result"
    }
   ],
   "source": [
    "df.head()"
   ]
  },
  {
   "cell_type": "code",
   "execution_count": 4,
   "id": "a239f8a8",
   "metadata": {},
   "outputs": [
    {
     "data": {
      "text/plain": [
       "(200, 5)"
      ]
     },
     "execution_count": 4,
     "metadata": {},
     "output_type": "execute_result"
    }
   ],
   "source": [
    "df.shape"
   ]
  },
  {
   "cell_type": "code",
   "execution_count": 5,
   "id": "e35f25ba",
   "metadata": {},
   "outputs": [
    {
     "data": {
      "text/plain": [
       "['Unnamed: 0', 'TV', 'Radio', 'Newspaper', 'Sales']"
      ]
     },
     "execution_count": 5,
     "metadata": {},
     "output_type": "execute_result"
    }
   ],
   "source": [
    "df.columns.values.tolist()"
   ]
  },
  {
   "cell_type": "code",
   "execution_count": 8,
   "id": "5867af3d",
   "metadata": {},
   "outputs": [
    {
     "name": "stdout",
     "output_type": "stream",
     "text": [
      "<class 'pandas.core.frame.DataFrame'>\n",
      "RangeIndex: 200 entries, 0 to 199\n",
      "Data columns (total 5 columns):\n",
      " #   Column      Non-Null Count  Dtype  \n",
      "---  ------      --------------  -----  \n",
      " 0   Unnamed: 0  200 non-null    int64  \n",
      " 1   TV          200 non-null    float64\n",
      " 2   Radio       200 non-null    float64\n",
      " 3   Newspaper   200 non-null    float64\n",
      " 4   Sales       200 non-null    float64\n",
      "dtypes: float64(4), int64(1)\n",
      "memory usage: 7.9 KB\n"
     ]
    }
   ],
   "source": [
    "df.info()"
   ]
  },
  {
   "cell_type": "code",
   "execution_count": 9,
   "id": "a85edddc",
   "metadata": {},
   "outputs": [
    {
     "data": {
      "text/html": [
       "<div>\n",
       "<style scoped>\n",
       "    .dataframe tbody tr th:only-of-type {\n",
       "        vertical-align: middle;\n",
       "    }\n",
       "\n",
       "    .dataframe tbody tr th {\n",
       "        vertical-align: top;\n",
       "    }\n",
       "\n",
       "    .dataframe thead th {\n",
       "        text-align: right;\n",
       "    }\n",
       "</style>\n",
       "<table border=\"1\" class=\"dataframe\">\n",
       "  <thead>\n",
       "    <tr style=\"text-align: right;\">\n",
       "      <th></th>\n",
       "      <th>Unnamed: 0</th>\n",
       "      <th>TV</th>\n",
       "      <th>Radio</th>\n",
       "      <th>Newspaper</th>\n",
       "      <th>Sales</th>\n",
       "    </tr>\n",
       "  </thead>\n",
       "  <tbody>\n",
       "    <tr>\n",
       "      <th>count</th>\n",
       "      <td>200.000000</td>\n",
       "      <td>200.000000</td>\n",
       "      <td>200.000000</td>\n",
       "      <td>200.000000</td>\n",
       "      <td>200.000000</td>\n",
       "    </tr>\n",
       "    <tr>\n",
       "      <th>mean</th>\n",
       "      <td>100.500000</td>\n",
       "      <td>147.042500</td>\n",
       "      <td>23.264000</td>\n",
       "      <td>30.554000</td>\n",
       "      <td>14.022500</td>\n",
       "    </tr>\n",
       "    <tr>\n",
       "      <th>std</th>\n",
       "      <td>57.879185</td>\n",
       "      <td>85.854236</td>\n",
       "      <td>14.846809</td>\n",
       "      <td>21.778621</td>\n",
       "      <td>5.217457</td>\n",
       "    </tr>\n",
       "    <tr>\n",
       "      <th>min</th>\n",
       "      <td>1.000000</td>\n",
       "      <td>0.700000</td>\n",
       "      <td>0.000000</td>\n",
       "      <td>0.300000</td>\n",
       "      <td>1.600000</td>\n",
       "    </tr>\n",
       "    <tr>\n",
       "      <th>25%</th>\n",
       "      <td>50.750000</td>\n",
       "      <td>74.375000</td>\n",
       "      <td>9.975000</td>\n",
       "      <td>12.750000</td>\n",
       "      <td>10.375000</td>\n",
       "    </tr>\n",
       "    <tr>\n",
       "      <th>50%</th>\n",
       "      <td>100.500000</td>\n",
       "      <td>149.750000</td>\n",
       "      <td>22.900000</td>\n",
       "      <td>25.750000</td>\n",
       "      <td>12.900000</td>\n",
       "    </tr>\n",
       "    <tr>\n",
       "      <th>75%</th>\n",
       "      <td>150.250000</td>\n",
       "      <td>218.825000</td>\n",
       "      <td>36.525000</td>\n",
       "      <td>45.100000</td>\n",
       "      <td>17.400000</td>\n",
       "    </tr>\n",
       "    <tr>\n",
       "      <th>max</th>\n",
       "      <td>200.000000</td>\n",
       "      <td>296.400000</td>\n",
       "      <td>49.600000</td>\n",
       "      <td>114.000000</td>\n",
       "      <td>27.000000</td>\n",
       "    </tr>\n",
       "  </tbody>\n",
       "</table>\n",
       "</div>"
      ],
      "text/plain": [
       "       Unnamed: 0          TV       Radio   Newspaper       Sales\n",
       "count  200.000000  200.000000  200.000000  200.000000  200.000000\n",
       "mean   100.500000  147.042500   23.264000   30.554000   14.022500\n",
       "std     57.879185   85.854236   14.846809   21.778621    5.217457\n",
       "min      1.000000    0.700000    0.000000    0.300000    1.600000\n",
       "25%     50.750000   74.375000    9.975000   12.750000   10.375000\n",
       "50%    100.500000  149.750000   22.900000   25.750000   12.900000\n",
       "75%    150.250000  218.825000   36.525000   45.100000   17.400000\n",
       "max    200.000000  296.400000   49.600000  114.000000   27.000000"
      ]
     },
     "execution_count": 9,
     "metadata": {},
     "output_type": "execute_result"
    }
   ],
   "source": [
    "df.describe()"
   ]
  },
  {
   "cell_type": "code",
   "execution_count": 10,
   "id": "bb19095f",
   "metadata": {},
   "outputs": [
    {
     "data": {
      "text/plain": [
       "Unnamed: 0    0\n",
       "TV            0\n",
       "Radio         0\n",
       "Newspaper     0\n",
       "Sales         0\n",
       "dtype: int64"
      ]
     },
     "execution_count": 10,
     "metadata": {},
     "output_type": "execute_result"
    }
   ],
   "source": [
    "df.isnull().sum()"
   ]
  },
  {
   "cell_type": "code",
   "execution_count": 13,
   "id": "c9d51a79",
   "metadata": {},
   "outputs": [
    {
     "data": {
      "image/png": "[encoded data removed]",
      "text/plain": [
       "<Figure size 1000x1000 with 3 Axes>"
      ]
     },
     "metadata": {},
     "output_type": "display_data"
    }
   ],
   "source": [
    "fig, axs = plt.subplots(3, figsize = (10,10))\n",
    "plt1 = sns.boxplot(df['TV'], ax = axs[0])\n",
    "plt2 = sns.boxplot(df['Newspaper'], ax = axs[1])\n",
    "plt3 = sns.boxplot(df['Radio'], ax = axs[2])\n",
    "plt.tight_layout()"
   ]
  },
  {
   "cell_type": "code",
   "execution_count": 14,
   "id": "ea16f578",
   "metadata": {},
   "outputs": [
    {
     "data": {
      "text/plain": [
       "<AxesSubplot:xlabel='Newspaper', ylabel='Density'>"
      ]
     },
     "execution_count": 14,
     "metadata": {},
     "output_type": "execute_result"
    },
    {
     "data": {
      "image/png": "[encoded data removed]",
      "text/plain": [
       "<Figure size 640x480 with 1 Axes>"
      ]
     },
     "metadata": {},
     "output_type": "display_data"
    }
   ],
   "source": [
    "sns.distplot(df['Newspaper'])"
   ]
  },
  {
   "cell_type": "code",
   "execution_count": 15,
   "id": "79d12b2c",
   "metadata": {},
   "outputs": [],
   "source": [
    "iqr = df.Newspaper.quantile(0.75) - df.Newspaper.quantile(0.25)"
   ]
  },
  {
   "cell_type": "code",
   "execution_count": 16,
   "id": "8a4c7d57",
   "metadata": {},
   "outputs": [
    {
     "name": "stdout",
     "output_type": "stream",
     "text": [
      "-35.775000000000006\n",
      "93.625\n"
     ]
    }
   ],
   "source": [
    "lower_bridge = df[\"Newspaper\"].quantile(0.25) - (iqr*1.5)\n",
    "upper_bridge = df[\"Newspaper\"].quantile(0.75) + (iqr*1.5)\n",
    "print(lower_bridge)\n",
    "print(upper_bridge)"
   ]
  },
  {
   "cell_type": "code",
   "execution_count": 17,
   "id": "6424fca9",
   "metadata": {},
   "outputs": [],
   "source": [
    "data = df.copy()"
   ]
  },
  {
   "cell_type": "code",
   "execution_count": 18,
   "id": "9535e08f",
   "metadata": {},
   "outputs": [],
   "source": [
    "data.loc[data['Newspaper']>=98, 'Newspaper']=98"
   ]
  },
  {
   "cell_type": "code",
   "execution_count": 19,
   "id": "4245c4e0",
   "metadata": {},
   "outputs": [
    {
     "data": {
      "text/plain": [
       "<AxesSubplot:xlabel='Newspaper'>"
      ]
     },
     "execution_count": 19,
     "metadata": {},
     "output_type": "execute_result"
    },
    {
     "data": {
      "image/png": "[encoded data removed]",
      "text/plain": [
       "<Figure size 640x480 with 1 Axes>"
      ]
     },
     "metadata": {},
     "output_type": "display_data"
    }
   ],
   "source": [
    "sns.boxplot(data['Newspaper'])"
   ]
  },
  {
   "cell_type": "code",
   "execution_count": 20,
   "id": "deb44729",
   "metadata": {},
   "outputs": [
    {
     "data": {
      "image/png": "[encoded data removed]",
      "text/plain": [
       "<Figure size 640x480 with 1 Axes>"
      ]
     },
     "metadata": {},
     "output_type": "display_data"
    }
   ],
   "source": [
    "sns.boxplot(data['Sales']);"
   ]
  },
  {
   "cell_type": "code",
   "execution_count": 21,
   "id": "b0307cd6",
   "metadata": {},
   "outputs": [
    {
     "data": {
      "image/png": "[encoded data removed]",
      "text/plain": [
       "<Figure size 1200x400 with 3 Axes>"
      ]
     },
     "metadata": {},
     "output_type": "display_data"
    }
   ],
   "source": [
    "sns.pairplot(data, x_vars=['TV', 'Newspaper', 'Radio'],\n",
    "            y_vars='Sales', height=4, aspect=1, kind='scatter')\n",
    "plt.show()"
   ]
  },
  {
   "cell_type": "code",
   "execution_count": 22,
   "id": "44fec573",
   "metadata": {},
   "outputs": [
    {
     "data": {
      "image/png": "[encoded data removed]",
      "text/plain": [
       "<Figure size 640x480 with 2 Axes>"
      ]
     },
     "metadata": {},
     "output_type": "display_data"
    }
   ],
   "source": [
    "sns.heatmap(data.corr(), cmap=\"YlGnBu\", annot = True)\n",
    "plt.show()"
   ]
  },
  {
   "cell_type": "code",
   "execution_count": 23,
   "id": "6d35dc1b",
   "metadata": {},
   "outputs": [],
   "source": [
    "important_features = list(df.corr()['Sales'][(df.corr()['Sales']>+0.5)|(df.corr()['Sales']<-0.5)].index)"
   ]
  },
  {
   "cell_type": "code",
   "execution_count": 24,
   "id": "f0113dee",
   "metadata": {},
   "outputs": [
    {
     "name": "stdout",
     "output_type": "stream",
     "text": [
      "['TV', 'Radio', 'Sales']\n"
     ]
    }
   ],
   "source": [
    "print(important_features)"
   ]
  },
  {
   "cell_type": "code",
   "execution_count": 25,
   "id": "f36eca49",
   "metadata": {},
   "outputs": [],
   "source": [
    "X = data['TV']\n",
    "y = data['Sales']"
   ]
  },
  {
   "cell_type": "code",
   "execution_count": 26,
   "id": "f5e4c404",
   "metadata": {},
   "outputs": [],
   "source": [
    "X = X.values.reshape(-1,1)"
   ]
  },
  {
   "cell_type": "code",
   "execution_count": 27,
   "id": "709d8cf8",
   "metadata": {},
   "outputs": [
    {
     "data": {
      "text/plain": [
       "array([[230.1],\n",
       "       [ 44.5],\n",
       "       [ 17.2],\n",
       "       [151.5],\n",
       "       [180.8],\n",
       "       [  8.7],\n",
       "       [ 57.5],\n",
       "       [120.2],\n",
       "       [  8.6],\n",
       "       [199.8],\n",
       "       [ 66.1],\n",
       "       [214.7],\n",
       "       [ 23.8],\n",
       "       [ 97.5],\n",
       "       [204.1],\n",
       "       [195.4],\n",
       "       [ 67.8],\n",
       "       [281.4],\n",
       "       [ 69.2],\n",
       "       [147.3],\n",
       "       [218.4],\n",
       "       [237.4],\n",
       "       [ 13.2],\n",
       "       [228.3],\n",
       "       [ 62.3],\n",
       "       [262.9],\n",
       "       [142.9],\n",
       "       [240.1],\n",
       "       [248.8],\n",
       "       [ 70.6],\n",
       "       [292.9],\n",
       "       [112.9],\n",
       "       [ 97.2],\n",
       "       [265.6],\n",
       "       [ 95.7],\n",
       "       [290.7],\n",
       "       [266.9],\n",
       "       [ 74.7],\n",
       "       [ 43.1],\n",
       "       [228. ],\n",
       "       [202.5],\n",
       "       [177. ],\n",
       "       [293.6],\n",
       "       [206.9],\n",
       "       [ 25.1],\n",
       "       [175.1],\n",
       "       [ 89.7],\n",
       "       [239.9],\n",
       "       [227.2],\n",
       "       [ 66.9],\n",
       "       [199.8],\n",
       "       [100.4],\n",
       "       [216.4],\n",
       "       [182.6],\n",
       "       [262.7],\n",
       "       [198.9],\n",
       "       [  7.3],\n",
       "       [136.2],\n",
       "       [210.8],\n",
       "       [210.7],\n",
       "       [ 53.5],\n",
       "       [261.3],\n",
       "       [239.3],\n",
       "       [102.7],\n",
       "       [131.1],\n",
       "       [ 69. ],\n",
       "       [ 31.5],\n",
       "       [139.3],\n",
       "       [237.4],\n",
       "       [216.8],\n",
       "       [199.1],\n",
       "       [109.8],\n",
       "       [ 26.8],\n",
       "       [129.4],\n",
       "       [213.4],\n",
       "       [ 16.9],\n",
       "       [ 27.5],\n",
       "       [120.5],\n",
       "       [  5.4],\n",
       "       [116. ],\n",
       "       [ 76.4],\n",
       "       [239.8],\n",
       "       [ 75.3],\n",
       "       [ 68.4],\n",
       "       [213.5],\n",
       "       [193.2],\n",
       "       [ 76.3],\n",
       "       [110.7],\n",
       "       [ 88.3],\n",
       "       [109.8],\n",
       "       [134.3],\n",
       "       [ 28.6],\n",
       "       [217.7],\n",
       "       [250.9],\n",
       "       [107.4],\n",
       "       [163.3],\n",
       "       [197.6],\n",
       "       [184.9],\n",
       "       [289.7],\n",
       "       [135.2],\n",
       "       [222.4],\n",
       "       [296.4],\n",
       "       [280.2],\n",
       "       [187.9],\n",
       "       [238.2],\n",
       "       [137.9],\n",
       "       [ 25. ],\n",
       "       [ 90.4],\n",
       "       [ 13.1],\n",
       "       [255.4],\n",
       "       [225.8],\n",
       "       [241.7],\n",
       "       [175.7],\n",
       "       [209.6],\n",
       "       [ 78.2],\n",
       "       [ 75.1],\n",
       "       [139.2],\n",
       "       [ 76.4],\n",
       "       [125.7],\n",
       "       [ 19.4],\n",
       "       [141.3],\n",
       "       [ 18.8],\n",
       "       [224. ],\n",
       "       [123.1],\n",
       "       [229.5],\n",
       "       [ 87.2],\n",
       "       [  7.8],\n",
       "       [ 80.2],\n",
       "       [220.3],\n",
       "       [ 59.6],\n",
       "       [  0.7],\n",
       "       [265.2],\n",
       "       [  8.4],\n",
       "       [219.8],\n",
       "       [ 36.9],\n",
       "       [ 48.3],\n",
       "       [ 25.6],\n",
       "       [273.7],\n",
       "       [ 43. ],\n",
       "       [184.9],\n",
       "       [ 73.4],\n",
       "       [193.7],\n",
       "       [220.5],\n",
       "       [104.6],\n",
       "       [ 96.2],\n",
       "       [140.3],\n",
       "       [240.1],\n",
       "       [243.2],\n",
       "       [ 38. ],\n",
       "       [ 44.7],\n",
       "       [280.7],\n",
       "       [121. ],\n",
       "       [197.6],\n",
       "       [171.3],\n",
       "       [187.8],\n",
       "       [  4.1],\n",
       "       [ 93.9],\n",
       "       [149.8],\n",
       "       [ 11.7],\n",
       "       [131.7],\n",
       "       [172.5],\n",
       "       [ 85.7],\n",
       "       [188.4],\n",
       "       [163.5],\n",
       "       [117.2],\n",
       "       [234.5],\n",
       "       [ 17.9],\n",
       "       [206.8],\n",
       "       [215.4],\n",
       "       [284.3],\n",
       "       [ 50. ],\n",
       "       [164.5],\n",
       "       [ 19.6],\n",
       "       [168.4],\n",
       "       [222.4],\n",
       "       [276.9],\n",
       "       [248.4],\n",
       "       [170.2],\n",
       "       [276.7],\n",
       "       [165.6],\n",
       "       [156.6],\n",
       "       [218.5],\n",
       "       [ 56.2],\n",
       "       [287.6],\n",
       "       [253.8],\n",
       "       [205. ],\n",
       "       [139.5],\n",
       "       [191.1],\n",
       "       [286. ],\n",
       "       [ 18.7],\n",
       "       [ 39.5],\n",
       "       [ 75.5],\n",
       "       [ 17.2],\n",
       "       [166.8],\n",
       "       [149.7],\n",
       "       [ 38.2],\n",
       "       [ 94.2],\n",
       "       [177. ],\n",
       "       [283.6],\n",
       "       [232.1]])"
      ]
     },
     "execution_count": 27,
     "metadata": {},
     "output_type": "execute_result"
    }
   ],
   "source": [
    "X"
   ]
  },
  {
   "cell_type": "code",
   "execution_count": 28,
   "id": "5b7cf2dd",
   "metadata": {},
   "outputs": [
    {
     "data": {
      "text/plain": [
       "0      22.1\n",
       "1      10.4\n",
       "2       9.3\n",
       "3      18.5\n",
       "4      12.9\n",
       "       ... \n",
       "195     7.6\n",
       "196     9.7\n",
       "197    12.8\n",
       "198    25.5\n",
       "199    13.4\n",
       "Name: Sales, Length: 200, dtype: float64"
      ]
     },
     "execution_count": 28,
     "metadata": {},
     "output_type": "execute_result"
    }
   ],
   "source": [
    "y"
   ]
  },
  {
   "cell_type": "code",
   "execution_count": 29,
   "id": "78ad377c",
   "metadata": {},
   "outputs": [
    {
     "name": "stdout",
     "output_type": "stream",
     "text": [
      "(200, 1) (200,)\n"
     ]
    }
   ],
   "source": [
    "print(X.shape,y.shape)"
   ]
  },
  {
   "cell_type": "code",
   "execution_count": 30,
   "id": "2e0eec99",
   "metadata": {},
   "outputs": [],
   "source": [
    "from sklearn.model_selection import train_test_split\n",
    "X_train,X_test,y_train,y_test=train_test_split(X,y, test_size=0.33)"
   ]
  },
  {
   "cell_type": "code",
   "execution_count": 31,
   "id": "62c6d75d",
   "metadata": {},
   "outputs": [
    {
     "name": "stdout",
     "output_type": "stream",
     "text": [
      "(134, 1) (134,)\n"
     ]
    }
   ],
   "source": [
    "print(X_train.shape,y_train.shape)"
   ]
  },
  {
   "cell_type": "code",
   "execution_count": 32,
   "id": "0e87bd88",
   "metadata": {},
   "outputs": [],
   "source": [
    "from sklearn.metrics import  mean_squared_error , r2_score\n",
    "from sklearn.model_selection import cross_val_score,GridSearchCV\n",
    "from sklearn.neighbors import KNeighborsRegressor\n",
    "from sklearn.svm import SVR\n",
    "from sklearn.tree import DecisionTreeRegressor\n",
    "from sklearn.ensemble import RandomForestRegressor"
   ]
  },
  {
   "cell_type": "code",
   "execution_count": 33,
   "id": "67191b98",
   "metadata": {},
   "outputs": [
    {
     "data": {
      "text/plain": [
       "KNeighborsRegressor()"
      ]
     },
     "execution_count": 33,
     "metadata": {},
     "output_type": "execute_result"
    }
   ],
   "source": [
    "knn = KNeighborsRegressor().fit(X_train, y_train)\n",
    "knn"
   ]
  },
  {
   "cell_type": "code",
   "execution_count": 34,
   "id": "d967441a",
   "metadata": {},
   "outputs": [],
   "source": [
    "knn_train_pred = knn.predict(X_train)"
   ]
  },
  {
   "cell_type": "code",
   "execution_count": 35,
   "id": "e0b9e1dd",
   "metadata": {},
   "outputs": [],
   "source": [
    "knn_test_pred = knn.predict(X_test)"
   ]
  },
  {
   "cell_type": "code",
   "execution_count": 36,
   "id": "7054b9ab",
   "metadata": {},
   "outputs": [
    {
     "name": "stdout",
     "output_type": "stream",
     "text": [
      "[15.56 10.36 13.04 15.   15.1  19.74  7.68 18.22 18.02  6.82 15.3  17.1\n",
      " 14.9  16.66 18.02 10.36 17.1  21.3  22.48 12.34 14.2  12.34 15.62  7.64\n",
      "  6.1  18.58 14.66 15.18 11.22 15.56 16.5  18.82 16.7  12.58 10.8  17.34\n",
      " 20.4  10.5  15.18 10.12 16.3  18.22  9.94 19.36 20.86 21.3  14.5   5.7\n",
      "  9.84 13.44  7.68 17.14  6.1  15.18 15.9  15.56 12.58 17.46  6.04 19.74\n",
      " 16.66  4.9  14.5  12.34  9.44  9.98 12.34  7.68 15.18 12.58 14.54 12.9\n",
      " 10.12 21.48  9.94 12.9  18.26  6.92 17.46  9.84  5.7  11.22 21.3  17.46\n",
      " 15.14 21.3  10.2  19.74 14.2  16.7  15.    9.84 18.3   7.68 20.86  6.82\n",
      " 13.34 12.7   7.64 10.54 18.5   9.94 15.1  11.22 10.54 14.06 17.46 10.8\n",
      " 15.14 16.88 12.34 11.22 20.16 15.14 21.16 11.22 18.3  17.4  19.84  4.9\n",
      " 15.14  9.94  7.64 15.56 14.9  12.74 10.48 14.5  10.2  11.22 20.4  10.56\n",
      " 11.22 16.9 ] [16.2  14.98 17.46 10.92  9.44 10.54  7.68  9.84 10.54 19.36 10.54 13.86\n",
      " 10.38 11.22 18.02 13.86 11.88 19.84 10.46  7.68 14.8   7.64 14.9   4.9\n",
      " 16.66  6.92 14.9  17.32 20.4  16.2  15.18 14.8  18.58 21.3  15.02 16.7\n",
      "  6.92 18.06 17.34 11.22 18.3  10.48 16.5   8.86  5.7  17.14 18.22 11.22\n",
      " 10.34 21.48 15.62 10.46  8.52 19.36 15.    6.92 15.56 14.1  21.16 11.22\n",
      " 10.54 14.8  20.76 14.9  12.74 12.7 ]\n"
     ]
    }
   ],
   "source": [
    "print(knn_train_pred, knn_test_pred)"
   ]
  },
  {
   "cell_type": "code",
   "execution_count": 37,
   "id": "e4f8f7c3",
   "metadata": {},
   "outputs": [],
   "source": [
    "Results = pd.DataFrame(columns=[\"Model\",\"Train R2\",\"Test R2\",\"Test RMSE\",\"Variance\"])"
   ]
  },
  {
   "cell_type": "code",
   "execution_count": 38,
   "id": "eda43ed2",
   "metadata": {},
   "outputs": [
    {
     "name": "stdout",
     "output_type": "stream",
     "text": [
      "R2: 0.5718505995203838\n",
      "RMSE: 3.2894533026481816\n"
     ]
    }
   ],
   "source": [
    "r2 = r2_score(y_test,knn_test_pred)\n",
    "r2_train = r2_score(y_train,knn_train_pred)\n",
    "rmse = np.sqrt(mean_squared_error(y_test,knn_test_pred))\n",
    "variance = r2_train - r2\n",
    "Results = Results.append({\"Model\":\"K-Nearest Neighbors\",\"Train R2\":r2_train,\"Test R2\":r2,\"Test RMSE\":rmse,\"Variance\":variance},ignore_index=True)\n",
    "print(\"R2:\",r2)\n",
    "print(\"RMSE:\",rmse)"
   ]
  },
  {
   "cell_type": "code",
   "execution_count": 39,
   "id": "32da2f7f",
   "metadata": {},
   "outputs": [
    {
     "data": {
      "text/html": [
       "<div>\n",
       "<style scoped>\n",
       "    .dataframe tbody tr th:only-of-type {\n",
       "        vertical-align: middle;\n",
       "    }\n",
       "\n",
       "    .dataframe tbody tr th {\n",
       "        vertical-align: top;\n",
       "    }\n",
       "\n",
       "    .dataframe thead th {\n",
       "        text-align: right;\n",
       "    }\n",
       "</style>\n",
       "<table border=\"1\" class=\"dataframe\">\n",
       "  <thead>\n",
       "    <tr style=\"text-align: right;\">\n",
       "      <th></th>\n",
       "      <th>Model</th>\n",
       "      <th>Train R2</th>\n",
       "      <th>Test R2</th>\n",
       "      <th>Test RMSE</th>\n",
       "      <th>Variance</th>\n",
       "    </tr>\n",
       "  </thead>\n",
       "  <tbody>\n",
       "    <tr>\n",
       "      <th>0</th>\n",
       "      <td>K-Nearest Neighbors</td>\n",
       "      <td>0.638163</td>\n",
       "      <td>0.571851</td>\n",
       "      <td>3.289453</td>\n",
       "      <td>0.066313</td>\n",
       "    </tr>\n",
       "  </tbody>\n",
       "</table>\n",
       "</div>"
      ],
      "text/plain": [
       "                 Model  Train R2   Test R2  Test RMSE  Variance\n",
       "0  K-Nearest Neighbors  0.638163  0.571851   3.289453  0.066313"
      ]
     },
     "execution_count": 39,
     "metadata": {},
     "output_type": "execute_result"
    }
   ],
   "source": [
    "Results.head()"
   ]
  },
  {
   "cell_type": "code",
   "execution_count": 40,
   "id": "26e9bb02",
   "metadata": {},
   "outputs": [
    {
     "data": {
      "text/plain": [
       "SVR()"
      ]
     },
     "execution_count": 40,
     "metadata": {},
     "output_type": "execute_result"
    }
   ],
   "source": [
    "svr = SVR().fit(X_train,y_train)\n",
    "svr"
   ]
  },
  {
   "cell_type": "code",
   "execution_count": 41,
   "id": "840e3380",
   "metadata": {},
   "outputs": [],
   "source": [
    "svr_train_pred = svr.predict(X_train)\n",
    "svr_test_pred = svr.predict(X_test)"
   ]
  },
  {
   "cell_type": "code",
   "execution_count": 42,
   "id": "902ff448",
   "metadata": {},
   "outputs": [
    {
     "name": "stdout",
     "output_type": "stream",
     "text": [
      "[18.09658756  8.5587706  12.08988673 17.34058574 13.69018481 18.5135464\n",
      "  7.75161742 18.70570657 18.67956959  7.42924542 15.31538872 17.56342121\n",
      " 14.34995184 15.58685411 18.67698565  8.56821917 17.59948228 18.56092001\n",
      " 18.74372742 13.18869036 13.77673835 11.54674108 14.52225895  7.56240383\n",
      "  7.34979138 16.56373159 14.0231523  15.22376164 10.82362381 18.06695113\n",
      " 18.20638942 17.06900673 17.99454156 11.79523236 10.35135965 16.08824873\n",
      " 18.7092837  10.85805305 14.96589016  8.82391815 15.86033336 18.72074564\n",
      "  8.3284845  17.15256512 18.37110519 18.53875831 12.80454367  7.34698431\n",
      " 11.19001218 13.04622056  7.75499539 17.21584215  7.35121557 14.93572678\n",
      " 17.41601896 18.08553445 11.68073043 17.69249697  7.40025034 18.44086226\n",
      " 15.61257966  7.31157716 12.95611925 13.19344429 11.04410114 11.34478891\n",
      " 13.20295317  7.83892402 15.03137144 11.79523236 16.47111801 13.28859827\n",
      "  8.74088311 18.69689641  8.27072202 13.36483346 15.97423836  7.51296438\n",
      " 16.76302487 11.11715908  7.33253586 10.10429601 18.46774742 16.70704038\n",
      " 16.16599343 18.48579371  8.49310501 18.54970501 13.69498812 18.0253703\n",
      " 17.24967381 11.20455898 17.0492219   7.71185258 18.38269427  7.42722166\n",
      " 12.99878773 11.94273656  7.55969676  9.78402973 16.76810424  8.26192201\n",
      " 13.57507911 10.75461453  9.79422769 12.42607571 17.61291832 10.25077719\n",
      " 16.2022658  17.77870955 13.24100287 10.70025058 18.60348906 16.15562849\n",
      " 18.65929086 10.11442061 16.96465384 17.87883836 16.89949929  7.3002\n",
      " 16.2022658   8.21395236  7.57888667 18.09658756 14.46305123 12.28885458\n",
      "  9.19835173 12.8329503   8.48844751 10.62591462 18.7336793  10.00796257\n",
      " 10.15994155 15.7517836 ] [15.43290292 17.4995333  17.6661726   9.63605313 11.02946426  9.67688756\n",
      "  7.77203088 11.14146579  9.86557086 17.11335296  9.75342837 12.30305428\n",
      " 11.45553688 10.15488695 18.65752041 12.32671779 13.12691951 16.90452501\n",
      "  8.99727079  7.81388858 14.80544901  7.58447191 12.72408493  7.28205502\n",
      " 15.58171116  7.52048757 14.35976704 16.34204015 18.73470031 15.43290292\n",
      " 15.03137144 14.74555615 16.56886691 18.38995038 16.4247011  17.99454156\n",
      "  7.52048757 15.88620693 16.08824873 10.09416828 16.99956744  9.30478466\n",
      " 18.15428195  7.99017883  7.33889488 17.24002544 18.70957464 10.15994155\n",
      "  9.44217442 18.70434933 14.60142129  9.1327267   7.87915696 17.14767462\n",
      " 17.34058574  7.53845712 18.08922694 12.54905517 18.66935574 10.0739036\n",
      "  9.72281737 14.69078398 18.63225557 14.40889844 12.14677336 11.83809832]\n"
     ]
    }
   ],
   "source": [
    "print(svr_train_pred,svr_test_pred)"
   ]
  },
  {
   "cell_type": "code",
   "execution_count": 43,
   "id": "e339715c",
   "metadata": {},
   "outputs": [
    {
     "name": "stdout",
     "output_type": "stream",
     "text": [
      "R2: 0.5852853317163573\n",
      "RMSE: 3.2374327340551896\n"
     ]
    }
   ],
   "source": [
    "r2 = r2_score(y_test,svr_test_pred)\n",
    "r2_train = r2_score(y_train,svr_train_pred)\n",
    "rmse = np.sqrt(mean_squared_error(y_test,svr_test_pred))\n",
    "variance = r2_train - r2\n",
    "Results = Results.append({\"Model\":\"Support Vector Machine\",\"Train R2\":r2_train,\"Test R2\":r2,\"Test RMSE\":rmse,\"Variance\":variance},ignore_index=True)\n",
    "print(\"R2:\",r2)\n",
    "print(\"RMSE:\",rmse)"
   ]
  },
  {
   "cell_type": "code",
   "execution_count": 44,
   "id": "dc7d7701",
   "metadata": {},
   "outputs": [
    {
     "data": {
      "text/html": [
       "<div>\n",
       "<style scoped>\n",
       "    .dataframe tbody tr th:only-of-type {\n",
       "        vertical-align: middle;\n",
       "    }\n",
       "\n",
       "    .dataframe tbody tr th {\n",
       "        vertical-align: top;\n",
       "    }\n",
       "\n",
       "    .dataframe thead th {\n",
       "        text-align: right;\n",
       "    }\n",
       "</style>\n",
       "<table border=\"1\" class=\"dataframe\">\n",
       "  <thead>\n",
       "    <tr style=\"text-align: right;\">\n",
       "      <th></th>\n",
       "      <th>Model</th>\n",
       "      <th>Train R2</th>\n",
       "      <th>Test R2</th>\n",
       "      <th>Test RMSE</th>\n",
       "      <th>Variance</th>\n",
       "    </tr>\n",
       "  </thead>\n",
       "  <tbody>\n",
       "    <tr>\n",
       "      <th>0</th>\n",
       "      <td>K-Nearest Neighbors</td>\n",
       "      <td>0.638163</td>\n",
       "      <td>0.571851</td>\n",
       "      <td>3.289453</td>\n",
       "      <td>0.066313</td>\n",
       "    </tr>\n",
       "    <tr>\n",
       "      <th>1</th>\n",
       "      <td>Support Vector Machine</td>\n",
       "      <td>0.595626</td>\n",
       "      <td>0.585285</td>\n",
       "      <td>3.237433</td>\n",
       "      <td>0.010341</td>\n",
       "    </tr>\n",
       "  </tbody>\n",
       "</table>\n",
       "</div>"
      ],
      "text/plain": [
       "                    Model  Train R2   Test R2  Test RMSE  Variance\n",
       "0     K-Nearest Neighbors  0.638163  0.571851   3.289453  0.066313\n",
       "1  Support Vector Machine  0.595626  0.585285   3.237433  0.010341"
      ]
     },
     "execution_count": 44,
     "metadata": {},
     "output_type": "execute_result"
    }
   ],
   "source": [
    "Results.head()"
   ]
  },
  {
   "cell_type": "code",
   "execution_count": 45,
   "id": "d1aa6b32",
   "metadata": {},
   "outputs": [],
   "source": [
    "import statsmodels.api as sm"
   ]
  },
  {
   "cell_type": "code",
   "execution_count": 46,
   "id": "6b3cf0d3",
   "metadata": {},
   "outputs": [],
   "source": [
    "X_train_constant = sm.add_constant(X_train)"
   ]
  },
  {
   "cell_type": "code",
   "execution_count": 47,
   "id": "33f66f3c",
   "metadata": {},
   "outputs": [],
   "source": [
    "model = sm.OLS(y_train, X_train_constant).fit()"
   ]
  },
  {
   "cell_type": "code",
   "execution_count": 48,
   "id": "a7cf5bd6",
   "metadata": {},
   "outputs": [
    {
     "data": {
      "text/plain": [
       "const    6.760668\n",
       "x1       0.048058\n",
       "dtype: float64"
      ]
     },
     "execution_count": 48,
     "metadata": {},
     "output_type": "execute_result"
    }
   ],
   "source": [
    "model.params"
   ]
  },
  {
   "cell_type": "code",
   "execution_count": 49,
   "id": "bb9dd700",
   "metadata": {},
   "outputs": [
    {
     "name": "stdout",
     "output_type": "stream",
     "text": [
      "                            OLS Regression Results                            \n",
      "==============================================================================\n",
      "Dep. Variable:                  Sales   R-squared:                       0.612\n",
      "Model:                            OLS   Adj. R-squared:                  0.609\n",
      "Method:                 Least Squares   F-statistic:                     208.3\n",
      "Date:                Sun, 12 Feb 2023   Prob (F-statistic):           6.27e-29\n",
      "Time:                        14:57:15   Log-Likelihood:                -349.83\n",
      "No. Observations:                 134   AIC:                             703.7\n",
      "Df Residuals:                     132   BIC:                             709.5\n",
      "Df Model:                           1                                         \n",
      "Covariance Type:            nonrobust                                         \n",
      "==============================================================================\n",
      "                 coef    std err          t      P>|t|      [0.025      0.975]\n",
      "------------------------------------------------------------------------------\n",
      "const          6.7607      0.574     11.783      0.000       5.626       7.896\n",
      "x1             0.0481      0.003     14.434      0.000       0.041       0.055\n",
      "==============================================================================\n",
      "Omnibus:                        0.157   Durbin-Watson:                   1.703\n",
      "Prob(Omnibus):                  0.925   Jarque-Bera (JB):                0.323\n",
      "Skew:                           0.030   Prob(JB):                        0.851\n",
      "Kurtosis:                       2.767   Cond. No.                         345.\n",
      "==============================================================================\n",
      "\n",
      "Notes:\n",
      "[1] Standard Errors assume that the covariance matrix of the errors is correctly specified.\n"
     ]
    }
   ],
   "source": [
    "print(model.summary())"
   ]
  },
  {
   "cell_type": "code",
   "execution_count": 50,
   "id": "f5d17c29",
   "metadata": {},
   "outputs": [
    {
     "data": {
      "image/png": "[encoded data removed]",
      "text/plain": [
       "<Figure size 640x480 with 1 Axes>"
      ]
     },
     "metadata": {},
     "output_type": "display_data"
    }
   ],
   "source": [
    "plt.scatter(X_train, y_train)\n",
    "plt.plot(X_train, 6.9955 + 0.0541 * X_train, 'y')\n",
    "plt.show()"
   ]
  },
  {
   "cell_type": "code",
   "execution_count": 51,
   "id": "dfc5c661",
   "metadata": {},
   "outputs": [
    {
     "data": {
      "text/plain": [
       "27    -2.399382\n",
       "1      1.500753\n",
       "79    -1.335390\n",
       "174   -5.948756\n",
       "194    3.345057\n",
       "         ...   \n",
       "161    2.420765\n",
       "175    6.932085\n",
       "140    0.611878\n",
       "117   -1.032296\n",
       "187    1.355457\n",
       "Name: Sales, Length: 134, dtype: float64"
      ]
     },
     "execution_count": 51,
     "metadata": {},
     "output_type": "execute_result"
    }
   ],
   "source": [
    "y_train_pred = model.predict(X_train_constant)\n",
    "res = (y_train - y_train_pred)\n",
    "res"
   ]
  },
  {
   "cell_type": "code",
   "execution_count": 52,
   "id": "2fe114e8",
   "metadata": {},
   "outputs": [
    {
     "data": {
      "text/plain": [
       "array([18.2993821 ,  8.89924695, 12.33539042, 17.44875637, 13.95494336,\n",
       "       18.95777603,  7.96211691, 19.50563666, 19.39510338,  7.3950331 ,\n",
       "       15.53604994, 17.67943454, 14.60853149, 15.79075708, 19.38549179,\n",
       "        8.90885854, 17.7178809 , 20.68305645, 19.91412924, 13.45033488,\n",
       "       14.04144767, 11.78752979, 14.77673432,  7.66415762,  7.17396652,\n",
       "       16.69905234, 14.28654322, 15.44954563, 11.07146632, 18.26093574,\n",
       "       18.44836175, 17.17963185, 18.16962563, 12.03743113, 10.61491579,\n",
       "       16.2569192 , 20.22650592, 11.10510689, 15.20445008,  9.16356568,\n",
       "       16.04546422, 19.58733518,  8.6589572 , 17.26133037, 18.69826309,\n",
       "       20.73111441, 13.06106548,  7.16435493, 11.43190095, 13.30616103,\n",
       "        7.96692271, 17.3238057 ,  7.17877232, 15.17561531, 17.5256491 ,\n",
       "       18.28496472, 11.92209205, 17.8188026 ,  7.32294617, 18.81840797,\n",
       "       15.81478605,  7.02018108, 13.21485092, 13.45514067, 11.2877271 ,\n",
       "       11.58568639, 13.46475226,  8.08226179, 15.26692541, 12.03743113,\n",
       "       16.61254803, 13.55125658,  9.08186716, 20.28417546,  8.59648186,\n",
       "       13.6281493 , 16.15119171,  7.57284751, 16.88647835, 11.35981403,\n",
       "        7.11149119, 10.37943183, 20.87048246, 16.83361461, 16.32900612,\n",
       "       20.8368419 ,  8.83196582, 19.03466875, 13.95974916, 18.208072  ,\n",
       "       17.35744627, 11.44631834, 17.16040867,  7.90444737, 18.71748627,\n",
       "        7.3902273 , 13.25810308, 12.18641078,  7.65935182, 10.07666674,\n",
       "       16.89128415,  8.58687027, 13.83960428, 11.00418519, 10.08627833,\n",
       "       12.67660187, 17.73229828, 10.51879989, 16.36264669, 17.9149185 ,\n",
       "       13.50319863, 10.95132145, 20.58213476, 16.31939453, 20.42354352,\n",
       "       10.38904342, 17.07871015, 18.03025758, 17.01623482,  6.95770575,\n",
       "       16.36264669,  8.53400653,  7.69299239, 18.2993821 , 14.71906478,\n",
       "       12.53723382,  9.52400031, 13.08990025,  8.82716003, 10.87923452,\n",
       "       20.06791469, 10.28812173, 10.43229558, 15.94454252])"
      ]
     },
     "execution_count": 52,
     "metadata": {},
     "output_type": "execute_result"
    }
   ],
   "source": [
    "y_train_pred"
   ]
  },
  {
   "cell_type": "code",
   "execution_count": 53,
   "id": "bb8fc7d2",
   "metadata": {},
   "outputs": [
    {
     "data": {
      "image/png": "[encoded data removed]",
      "text/plain": [
       "<Figure size 640x480 with 1 Axes>"
      ]
     },
     "metadata": {},
     "output_type": "display_data"
    }
   ],
   "source": [
    "fig = plt.figure()\n",
    "sns.distplot(res, bins = 15)\n",
    "fig.suptitle('Error Terms', fontsize = 15)\n",
    "plt.xlabel('Difference in y_train and y_train_pred', fontsize = 15)\n",
    "plt.show()"
   ]
  },
  {
   "cell_type": "code",
   "execution_count": 54,
   "id": "7b423354",
   "metadata": {},
   "outputs": [
    {
     "data": {
      "image/png": "[encoded data removed]",
      "text/plain": [
       "<Figure size 640x480 with 1 Axes>"
      ]
     },
     "metadata": {},
     "output_type": "display_data"
    }
   ],
   "source": [
    "plt.scatter(X_train, res)\n",
    "plt.show()"
   ]
  },
  {
   "cell_type": "code",
   "execution_count": 55,
   "id": "4def1e56",
   "metadata": {},
   "outputs": [],
   "source": [
    "X_test_constant = sm.add_constant(X_test)\n",
    "y_pred = model.predict(X_test_constant)"
   ]
  },
  {
   "cell_type": "code",
   "execution_count": 56,
   "id": "bdbe0092",
   "metadata": {},
   "outputs": [
    {
     "data": {
      "text/plain": [
       "array([[  1. , 184.9],\n",
       "       [  1. , 225.8],\n",
       "       [  1. , 229.5],\n",
       "       [  1. ,  66.1],\n",
       "       [  1. ,  93.9],\n",
       "       [  1. ,  66.9],\n",
       "       [  1. ,  25.6],\n",
       "       [  1. ,  96.2],\n",
       "       [  1. ,  70.6],\n",
       "       [  1. , 217.7],\n",
       "       [  1. ,  68.4],\n",
       "       [  1. , 120.5],\n",
       "       [  1. , 102.7],\n",
       "       [  1. ,  76.3],\n",
       "       [  1. , 261.3],\n",
       "       [  1. , 121. ],\n",
       "       [  1. , 137.9],\n",
       "       [  1. , 213.5],\n",
       "       [  1. ,  53.5],\n",
       "       [  1. ,  26.8],\n",
       "       [  1. , 172.5],\n",
       "       [  1. ,  19.6],\n",
       "       [  1. , 129.4],\n",
       "       [  1. ,   0.7],\n",
       "       [  1. , 187.8],\n",
       "       [  1. ,  17.2],\n",
       "       [  1. , 163.5],\n",
       "       [  1. , 202.5],\n",
       "       [  1. , 276.7],\n",
       "       [  1. , 184.9],\n",
       "       [  1. , 177. ],\n",
       "       [  1. , 171.3],\n",
       "       [  1. , 206.9],\n",
       "       [  1. , 296.4],\n",
       "       [  1. , 204.1],\n",
       "       [  1. , 237.4],\n",
       "       [  1. ,  17.2],\n",
       "       [  1. , 193.7],\n",
       "       [  1. , 197.6],\n",
       "       [  1. ,  75.1],\n",
       "       [  1. , 215.4],\n",
       "       [  1. ,  59.6],\n",
       "       [  1. , 241.7],\n",
       "       [  1. ,  31.5],\n",
       "       [  1. ,   7.8],\n",
       "       [  1. , 220.3],\n",
       "       [  1. , 265.6],\n",
       "       [  1. ,  76.4],\n",
       "       [  1. ,  62.3],\n",
       "       [  1. , 280.7],\n",
       "       [  1. , 168.4],\n",
       "       [  1. ,  56.2],\n",
       "       [  1. ,  28.6],\n",
       "       [  1. , 218.4],\n",
       "       [  1. , 222.4],\n",
       "       [  1. ,  17.9],\n",
       "       [  1. , 239.9],\n",
       "       [  1. , 125.7],\n",
       "       [  1. , 283.6],\n",
       "       [  1. ,  74.7],\n",
       "       [  1. ,  67.8],\n",
       "       [  1. , 170.2],\n",
       "       [  1. , 286. ],\n",
       "       [  1. , 164.5],\n",
       "       [  1. , 117.2],\n",
       "       [  1. , 110.7]])"
      ]
     },
     "execution_count": 56,
     "metadata": {},
     "output_type": "execute_result"
    }
   ],
   "source": [
    "X_test_constant"
   ]
  },
  {
   "cell_type": "code",
   "execution_count": 57,
   "id": "3404d804",
   "metadata": {},
   "outputs": [
    {
     "data": {
      "text/plain": [
       "array([15.64658323, 17.61215341, 17.78996782,  9.93729869, 11.27330971,\n",
       "        9.97574505,  7.99095168, 11.383843  , 10.15355946, 17.22288401,\n",
       "       10.04783197, 12.5516512 , 11.69621968, 10.42748978, 19.31821066,\n",
       "       12.57568018, 13.38785954, 17.02104061,  9.33176851,  8.04862123,\n",
       "       15.05066464,  7.70260398, 12.97936696,  6.79430871, 15.78595128,\n",
       "        7.5872649 , 14.61814308, 16.49240316, 20.0583031 , 15.64658323,\n",
       "       15.26692541, 14.9929951 , 16.70385814, 21.00504472, 16.56929588,\n",
       "       18.16962563,  7.5872649 , 16.06949319, 16.2569192 , 10.36982024,\n",
       "       17.11235072,  9.62492201, 18.37627482,  8.27449359,  7.13552016,\n",
       "       17.34783468, 19.52485984, 10.43229558,  9.75467847, 20.2505349 ,\n",
       "       14.85362704,  9.46152497,  8.13512554, 17.25652457, 17.44875637,\n",
       "        7.62090546, 18.28977051, 12.80155255, 20.38990296, 10.35059706,\n",
       "       10.0189972 , 14.94013135, 20.50524204, 14.66620103, 12.39305997,\n",
       "       12.08068329])"
      ]
     },
     "execution_count": 57,
     "metadata": {},
     "output_type": "execute_result"
    }
   ],
   "source": [
    "y_pred"
   ]
  },
  {
   "cell_type": "code",
   "execution_count": 58,
   "id": "7743ee75",
   "metadata": {},
   "outputs": [],
   "source": [
    "from sklearn.metrics import mean_squared_error\n",
    "from sklearn.metrics import r2_score"
   ]
  },
  {
   "cell_type": "code",
   "execution_count": 59,
   "id": "af45432b",
   "metadata": {},
   "outputs": [
    {
     "data": {
      "text/plain": [
       "3.1566318705797207"
      ]
     },
     "execution_count": 59,
     "metadata": {},
     "output_type": "execute_result"
    }
   ],
   "source": [
    "np.sqrt(mean_squared_error(y_test, y_pred))"
   ]
  },
  {
   "cell_type": "code",
   "execution_count": 60,
   "id": "28a6122e",
   "metadata": {},
   "outputs": [],
   "source": [
    "r2 = r2_score(y_test, y_pred)"
   ]
  },
  {
   "cell_type": "code",
   "execution_count": 61,
   "id": "1e8326e9",
   "metadata": {},
   "outputs": [
    {
     "data": {
      "text/plain": [
       "0.6057281567267774"
      ]
     },
     "execution_count": 61,
     "metadata": {},
     "output_type": "execute_result"
    }
   ],
   "source": [
    "r2"
   ]
  },
  {
   "cell_type": "code",
   "execution_count": 62,
   "id": "e11c2f63",
   "metadata": {},
   "outputs": [
    {
     "data": {
      "image/png": "[encoded data removed]",
      "text/plain": [
       "<Figure size 640x480 with 1 Axes>"
      ]
     },
     "metadata": {},
     "output_type": "display_data"
    }
   ],
   "source": [
    "plt.scatter(X_test, y_test)\n",
    "plt.plot(X_test, 6.9955 + 0.0541 * X_test, 'y')\n",
    "plt.show()"
   ]
  },
  {
   "cell_type": "code",
   "execution_count": null,
   "id": "0e422cd5",
   "metadata": {},
   "outputs": [],
   "source": []
  }
 ],
 "metadata": {
  "kernelspec": {
   "display_name": "Python 3 (ipykernel)",
   "language": "python",
   "name": "python3"
  },
  "language_info": {
   "codemirror_mode": {
    "name": "ipython",
    "version": 3
   },
   "file_extension": ".py",
   "mimetype": "text/x-python",
   "name": "python",
   "nbconvert_exporter": "python",
   "pygments_lexer": "ipython3",
   "version": "3.9.13"
  }
 },
 "nbformat": 4,
 "nbformat_minor": 5
}
